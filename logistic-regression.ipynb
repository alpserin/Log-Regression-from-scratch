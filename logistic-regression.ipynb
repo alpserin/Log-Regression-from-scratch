{
 "cells": [
  {
   "cell_type": "code",
   "execution_count": 1,
   "id": "4bbd8c53",
   "metadata": {
    "_cell_guid": "b1076dfc-b9ad-4769-8c92-a6c4dae69d19",
    "_uuid": "8f2839f25d086af736a60e9eeb907d3b93b6e0e5",
    "execution": {
     "iopub.execute_input": "2022-11-13T13:44:19.260961Z",
     "iopub.status.busy": "2022-11-13T13:44:19.260244Z",
     "iopub.status.idle": "2022-11-13T13:44:22.164438Z",
     "shell.execute_reply": "2022-11-13T13:44:22.163612Z"
    },
    "papermill": {
     "duration": 2.91064,
     "end_time": "2022-11-13T13:44:22.167643",
     "exception": false,
     "start_time": "2022-11-13T13:44:19.257003",
     "status": "completed"
    },
    "tags": []
   },
   "outputs": [
    {
     "name": "stdout",
     "output_type": "stream",
     "text": [
      "Learning rate: 0.1\n",
      "Iteration: 10000\n",
      "Accuracy :\n"
     ]
    },
    {
     "data": {
      "text/plain": [
       "78.1343177623172"
      ]
     },
     "execution_count": 1,
     "metadata": {},
     "output_type": "execute_result"
    }
   ],
   "source": [
    "import pandas as pd\n",
    "import numpy as np\n",
    "import matplotlib.pyplot as plt\n",
    "from plotly.offline import download_plotlyjs, init_notebook_mode, plot, iplot\n",
    "import plotly as py\n",
    "import plotly.graph_objs as go\n",
    "import time\n",
    "\n",
    "def sigmoid(X, weight):\n",
    "    z = np.dot(X, weight)\n",
    "    return 1 / (1 + np.exp(-z))\n",
    "\n",
    "def loss(h, y):\n",
    "    return (-y * np.log(h) - (1 - y) * np.log(1 - h)).mean()\n",
    "\n",
    "def gradient_descent(X, h, y):\n",
    "    return np.dot(X.T, (h - y)) / y.shape[0]\n",
    "def update_weight_loss(weight, learning_rate, gradient):\n",
    "    return weight - learning_rate * gradient\n",
    "\n",
    "data = pd.read_csv(\"../input/wa-fnusec-telcocustomerchurn/WA_Fn-UseC_-Telco-Customer-Churn.csv\")\n",
    "pd.DataFrame(data.dtypes).rename(columns = {0:'dtype'})\n",
    "df = data.copy()\n",
    "\n",
    "\n",
    "df['class'] = df['Churn'].apply(lambda x : 1 if x == \"Yes\" else 0)\n",
    "# features will be saved as X and our target will be saved as y\n",
    "X = df[['tenure','MonthlyCharges']].copy()\n",
    "y = df['class'].copy() \n",
    "\n",
    "start_time = time.time()\n",
    "\n",
    "num_iter = 10000\n",
    "\n",
    "intercept = np.ones((X.shape[0], 1)) \n",
    "X = np.concatenate((intercept, X), axis=1)\n",
    "theta = np.zeros(X.shape[1])\n",
    "\n",
    "for i in range(num_iter):\n",
    "    h = sigmoid(X, theta)\n",
    "    gradient = gradient_descent(X, h, y)\n",
    "    theta = update_weight_loss(theta, 0.1, gradient)\n",
    "    \n",
    "print(\"Learning rate: {}\\nIteration: {}\".format(0.1, num_iter))\n",
    "\n",
    "result = sigmoid(X, theta)\n",
    "\n",
    "f = pd.DataFrame(np.around(result, decimals=6)).join(y)\n",
    "f['pred'] = f[0].apply(lambda x : 0 if x < 0.5 else 1)\n",
    "print(\"Accuracy :\")\n",
    "f.loc[f['pred']==f['class']].shape[0] / f.shape[0] * 100\n",
    "\n"
   ]
  }
 ],
 "metadata": {
  "kernelspec": {
   "display_name": "Python 3",
   "language": "python",
   "name": "python3"
  },
  "language_info": {
   "codemirror_mode": {
    "name": "ipython",
    "version": 3
   },
   "file_extension": ".py",
   "mimetype": "text/x-python",
   "name": "python",
   "nbconvert_exporter": "python",
   "pygments_lexer": "ipython3",
   "version": "3.7.12"
  },
  "papermill": {
   "default_parameters": {},
   "duration": 10.620907,
   "end_time": "2022-11-13T13:44:22.794750",
   "environment_variables": {},
   "exception": null,
   "input_path": "__notebook__.ipynb",
   "output_path": "__notebook__.ipynb",
   "parameters": {},
   "start_time": "2022-11-13T13:44:12.173843",
   "version": "2.3.4"
  }
 },
 "nbformat": 4,
 "nbformat_minor": 5
}
