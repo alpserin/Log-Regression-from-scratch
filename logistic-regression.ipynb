{
 "cells": [
  {
   "cell_type": "code",
   "execution_count": 1,
   "id": "40f02592",
   "metadata": {
    "_cell_guid": "b1076dfc-b9ad-4769-8c92-a6c4dae69d19",
    "_uuid": "8f2839f25d086af736a60e9eeb907d3b93b6e0e5",
    "execution": {
     "iopub.execute_input": "2022-11-13T13:50:02.169549Z",
     "iopub.status.busy": "2022-11-13T13:50:02.169068Z",
     "iopub.status.idle": "2022-11-13T13:50:09.934604Z",
     "shell.execute_reply": "2022-11-13T13:50:09.932974Z"
    },
    "papermill": {
     "duration": 7.777154,
     "end_time": "2022-11-13T13:50:09.941672",
     "exception": false,
     "start_time": "2022-11-13T13:50:02.164518",
     "status": "completed"
    },
    "tags": []
   },
   "outputs": [
    {
     "name": "stdout",
     "output_type": "stream",
     "text": [
      "Learning rate: 0.1\n",
      "Iteration: 10000\n",
      "Accuracy :\n"
     ]
    },
    {
     "data": {
      "text/plain": [
       "78.1343177623172"
      ]
     },
     "execution_count": 1,
     "metadata": {},
     "output_type": "execute_result"
    }
   ],
   "source": [
    "import pandas as pd\n",
    "import numpy as np\n",
    "import matplotlib.pyplot as plt\n",
    "\n",
    "# We define the sigmoid function\n",
    "def sigmoid(X, weight):\n",
    "    z = np.dot(X, weight)\n",
    "    return 1 / (1 + np.exp(-z))\n",
    "\n",
    "# The loss function\n",
    "def loss(h, y):\n",
    "    return (-y * np.log(h) - (1 - y) * np.log(1 - h)).mean()\n",
    "# Loss minimization with gradient descent\n",
    "def gradient_descent(X, h, y):\n",
    "    return np.dot(X.T, (h - y)) / y.shape[0]\n",
    "def update_weight_loss(weight, learning_rate, gradient):\n",
    "    return weight - learning_rate * gradient\n",
    "\n",
    "data = pd.read_csv(\"../input/wa-fnusec-telcocustomerchurn/WA_Fn-UseC_-Telco-Customer-Churn.csv\")\n",
    "pd.DataFrame(data.dtypes).rename(columns = {0:'dtype'})\n",
    "df = data.copy()\n",
    "\n",
    "df['class'] = df['Churn'].apply(lambda x : 1 if x == \"Yes\" else 0) \n",
    "X = df[['tenure','MonthlyCharges']].copy() # features\n",
    "y = df['class'].copy() # targets\n",
    "\n",
    "num_iter = 10000\n",
    "\n",
    "intercept = np.ones((X.shape[0], 1)) \n",
    "X = np.concatenate((intercept, X), axis=1)\n",
    "theta = np.zeros(X.shape[1])\n",
    "\n",
    "for i in range(num_iter):\n",
    "    h = sigmoid(X, theta)\n",
    "    gradient = gradient_descent(X, h, y)\n",
    "    theta = update_weight_loss(theta, 0.1, gradient)\n",
    "    \n",
    "print(\"Learning rate: {}\\nIteration: {}\".format(0.1, num_iter))\n",
    "\n",
    "result = sigmoid(X, theta)\n",
    "\n",
    "f = pd.DataFrame(np.around(result, decimals=6)).join(y)\n",
    "f['pred'] = f[0].apply(lambda x : 0 if x < 0.5 else 1)\n",
    "print(\"Accuracy :\")\n",
    "f.loc[f['pred']==f['class']].shape[0] / f.shape[0] * 100\n",
    "\n"
   ]
  }
 ],
 "metadata": {
  "kernelspec": {
   "display_name": "Python 3",
   "language": "python",
   "name": "python3"
  },
  "language_info": {
   "codemirror_mode": {
    "name": "ipython",
    "version": 3
   },
   "file_extension": ".py",
   "mimetype": "text/x-python",
   "name": "python",
   "nbconvert_exporter": "python",
   "pygments_lexer": "ipython3",
   "version": "3.7.12"
  },
  "papermill": {
   "default_parameters": {},
   "duration": 19.104443,
   "end_time": "2022-11-13T13:50:12.922801",
   "environment_variables": {},
   "exception": null,
   "input_path": "__notebook__.ipynb",
   "output_path": "__notebook__.ipynb",
   "parameters": {},
   "start_time": "2022-11-13T13:49:53.818358",
   "version": "2.3.4"
  }
 },
 "nbformat": 4,
 "nbformat_minor": 5
}
